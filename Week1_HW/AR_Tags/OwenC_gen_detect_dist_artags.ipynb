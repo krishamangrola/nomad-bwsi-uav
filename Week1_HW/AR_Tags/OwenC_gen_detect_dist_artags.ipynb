{
 "cells": [
  {
   "cell_type": "code",
   "execution_count": 21,
   "id": "9b27dc9b-453c-4f8e-a7d3-91aa782929c8",
   "metadata": {},
   "outputs": [],
   "source": [
    "import numpy as np\n",
    "import cv2\n",
    "\n",
    "# LOAD CORRECT TAG DICTIONARY\n",
    "arucoDict = cv2.aruco.getPredefinedDictionary(cv2.aruco.DICT_APRILTAG_16H5)\n",
    "SIZE = 500 # pixels\n",
    "\n",
    "# CREATE ARRAY FOR MARKER\n",
    "marker = np.zeros((SIZE, SIZE, 1), dtype=np.uint8)\n",
    "\n",
    "ID = [7, 18, 23]\n",
    "\n",
    "for n in ID:\n",
    "\n",
    "    cv2.aruco.generateImageMarker(arucoDict, n, SIZE, marker, 1)\n",
    "    cv2.imwrite('DICT_ARUCO_ORIGINAL_id_{}_{}.png'.format(n, SIZE), marker)\n"
   ]
  },
  {
   "cell_type": "code",
   "execution_count": 18,
   "id": "5c43e84a-98bd-4cc5-b213-be2f25fed99b",
   "metadata": {},
   "outputs": [
    {
     "data": {
      "text/plain": [
       "True"
      ]
     },
     "execution_count": 18,
     "metadata": {},
     "output_type": "execute_result"
    }
   ],
   "source": [
    "# LOAD IMAGE AND TAG DICTIONARY\n",
    "tags = cv2.imread('data/two_tags_ARUCO_ORIGINAL.png')\n",
    "arucoDict = cv2.aruco.getPredefinedDictionary(cv2.aruco.DICT_ARUCO_ORIGINAL)\n",
    "\n",
    "# DETECT TAGS IN IMAGE\n",
    "corners, ids, rejects = cv2.aruco.detectMarkers(cv2.cvtColor(tags, cv2.COLOR_BGR2GRAY), arucoDict)\n",
    "\n",
    "# DRAW DETECTION AND SAVE FILE\n",
    "detection = cv2.aruco.drawDetectedMarkers(tags, corners, borderColor=(255, 0, 0))\n",
    "cv2.imwrite('detection_two_tags_ARUCO_ORIGINAL.png', detection)"
   ]
  },
  {
   "cell_type": "code",
   "execution_count": 24,
   "id": "7940a6ee-cc08-4907-8514-7ba2f070a65c",
   "metadata": {},
   "outputs": [
    {
     "name": "stdout",
     "output_type": "stream",
     "text": [
      "3.727848529815674\n"
     ]
    }
   ],
   "source": [
    "center1 = np.mean(corners[0], axis = 0)\n",
    "center2 = np.mean(corners[1], axis = 0)\n",
    "\n",
    "distance_in_pixels = np.sqrt(np.sum((center1 - center2) ** 2))\n",
    "distance_in_cm = 3 * distance_in_pixels / tags.shape[0]\n",
    "\n",
    "print(distance_in_cm)"
   ]
  }
 ],
 "metadata": {
  "kernelspec": {
   "display_name": "Python 3 (ipykernel)",
   "language": "python",
   "name": "python3"
  },
  "language_info": {
   "codemirror_mode": {
    "name": "ipython",
    "version": 3
   },
   "file_extension": ".py",
   "mimetype": "text/x-python",
   "name": "python",
   "nbconvert_exporter": "python",
   "pygments_lexer": "ipython3",
   "version": "3.11.7"
  }
 },
 "nbformat": 4,
 "nbformat_minor": 5
}
