{
 "cells": [
  {
   "cell_type": "code",
   "execution_count": 9,
   "id": "01294cdc-00ea-4831-9ccd-7b9cc67749b1",
   "metadata": {},
   "outputs": [
    {
     "name": "stdout",
     "output_type": "stream",
     "text": [
      "Generated marker for ID 7\n",
      "Generated marker for ID 18\n",
      "Generated marker for ID 23\n",
      "All markers generated successfully.\n"
     ]
    }
   ],
   "source": [
    "import numpy as np\n",
    "import cv2\n",
    "\n",
    "# define airtag\n",
    "dictionary = cv2.aruco.getPredefinedDictionary(cv2.aruco.DICT_APRILTAG_16h5)\n",
    "\n",
    "# size\n",
    "SIZE = 500\n",
    "\n",
    "#generate markers\n",
    "for ID in [7, 18, 23]:\n",
    "    # blank space\n",
    "    marker = np.zeros((SIZE, SIZE, 1), dtype=np.uint8)\n",
    "    \n",
    "    # drawing marker\n",
    "    cv2.aruco.generateImageMarker(dictionary, ID, SIZE, marker, 1)\n",
    "    \n",
    "    # saving it \n",
    "    cv2.imwrite('DICT_APRILTAG_16h5_id_{}_{}.png'.format(ID, SIZE), marker)\n",
    "    \n",
    "    print(f\"Generated marker for ID {ID}\")\n",
    "\n",
    "print(\"All markers generated successfully.\")\n"
   ]
  },
  {
   "cell_type": "code",
   "execution_count": null,
   "id": "7f6c7a9a-278a-4c2f-8b9c-ea4892461b0e",
   "metadata": {},
   "outputs": [],
   "source": []
  }
 ],
 "metadata": {
  "kernelspec": {
   "display_name": "Python 3 (ipykernel)",
   "language": "python",
   "name": "python3"
  },
  "language_info": {
   "codemirror_mode": {
    "name": "ipython",
    "version": 3
   },
   "file_extension": ".py",
   "mimetype": "text/x-python",
   "name": "python",
   "nbconvert_exporter": "python",
   "pygments_lexer": "ipython3",
   "version": "3.10.12"
  }
 },
 "nbformat": 4,
 "nbformat_minor": 5
}
